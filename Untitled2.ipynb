{
  "nbformat": 4,
  "nbformat_minor": 0,
  "metadata": {
    "colab": {
      "provenance": [],
      "authorship_tag": "ABX9TyPrbfUnuNK4jcQ+Fs5/XJR2",
      "include_colab_link": true
    },
    "kernelspec": {
      "name": "python3",
      "display_name": "Python 3"
    },
    "language_info": {
      "name": "python"
    }
  },
  "cells": [
    {
      "cell_type": "markdown",
      "metadata": {
        "id": "view-in-github",
        "colab_type": "text"
      },
      "source": [
        "<a href=\"https://colab.research.google.com/github/nourinaman/API/blob/main/Untitled2.ipynb\" target=\"_parent\"><img src=\"https://colab.research.google.com/assets/colab-badge.svg\" alt=\"Open In Colab\"/></a>"
      ]
    },
    {
      "cell_type": "code",
      "execution_count": 2,
      "metadata": {
        "colab": {
          "base_uri": "https://localhost:8080/"
        },
        "id": "A7A2TWi-6nQ1",
        "outputId": "1b1085ce-c538-429e-bd44-433b070960c3"
      },
      "outputs": [
        {
          "output_type": "stream",
          "name": "stdout",
          "text": [
            "200\n",
            "{\"login\":\"nourinaman\",\"id\":60892087,\"node_id\":\"MDQ6VXNlcjYwODkyMDg3\",\"avatar_url\":\"https://avatars.githubusercontent.com/u/60892087?v=4\",\"gravatar_id\":\"\",\"url\":\"https://api.github.com/users/nourinaman\",\"html_url\":\"https://github.com/nourinaman\",\"followers_url\":\"https://api.github.com/users/nourinaman/followers\",\"following_url\":\"https://api.github.com/users/nourinaman/following{/other_user}\",\"gists_url\":\"https://api.github.com/users/nourinaman/gists{/gist_id}\",\"starred_url\":\"https://api.github.com/users/nourinaman/starred{/owner}{/repo}\",\"subscriptions_url\":\"https://api.github.com/users/nourinaman/subscriptions\",\"organizations_url\":\"https://api.github.com/users/nourinaman/orgs\",\"repos_url\":\"https://api.github.com/users/nourinaman/repos\",\"events_url\":\"https://api.github.com/users/nourinaman/events{/privacy}\",\"received_events_url\":\"https://api.github.com/users/nourinaman/received_events\",\"type\":\"User\",\"site_admin\":false,\"name\":null,\"company\":null,\"blog\":\"\",\"location\":null,\"email\":null,\"hireable\":null,\"bio\":null,\"twitter_username\":null,\"public_repos\":3,\"public_gists\":0,\"followers\":0,\"following\":1,\"created_at\":\"2020-02-10T16:52:57Z\",\"updated_at\":\"2024-01-08T16:34:38Z\"}\n",
            "{'avatar_url': 'https://avatars.githubusercontent.com/u/60892087?v=4',\n",
            " 'bio': None,\n",
            " 'blog': '',\n",
            " 'company': None,\n",
            " 'created_at': '2020-02-10T16:52:57Z',\n",
            " 'email': None,\n",
            " 'events_url': 'https://api.github.com/users/nourinaman/events{/privacy}',\n",
            " 'followers': 0,\n",
            " 'followers_url': 'https://api.github.com/users/nourinaman/followers',\n",
            " 'following': 1,\n",
            " 'following_url': 'https://api.github.com/users/nourinaman/following{/other_user}',\n",
            " 'gists_url': 'https://api.github.com/users/nourinaman/gists{/gist_id}',\n",
            " 'gravatar_id': '',\n",
            " 'hireable': None,\n",
            " 'html_url': 'https://github.com/nourinaman',\n",
            " 'id': 60892087,\n",
            " 'location': None,\n",
            " 'login': 'nourinaman',\n",
            " 'name': None,\n",
            " 'node_id': 'MDQ6VXNlcjYwODkyMDg3',\n",
            " 'organizations_url': 'https://api.github.com/users/nourinaman/orgs',\n",
            " 'public_gists': 0,\n",
            " 'public_repos': 3,\n",
            " 'received_events_url': 'https://api.github.com/users/nourinaman/received_events',\n",
            " 'repos_url': 'https://api.github.com/users/nourinaman/repos',\n",
            " 'site_admin': False,\n",
            " 'starred_url': 'https://api.github.com/users/nourinaman/starred{/owner}{/repo}',\n",
            " 'subscriptions_url': 'https://api.github.com/users/nourinaman/subscriptions',\n",
            " 'twitter_username': None,\n",
            " 'type': 'User',\n",
            " 'updated_at': '2024-01-08T16:34:38Z',\n",
            " 'url': 'https://api.github.com/users/nourinaman'}\n"
          ]
        }
      ],
      "source": [
        "import requests\n",
        "import json\n",
        "from pprint import pprint\n",
        "\n",
        "# get secret from Colab\n",
        "from google.colab import userdata\n",
        "token = userdata.get('ghtoken')\n",
        "\n",
        "# initialize request parameters\n",
        "url = 'https://api.github.com/user'\n",
        "headers = {'Authorization': 'Bearer ' + token}\n",
        "\n",
        "# send request to GitHub\n",
        "r = requests.get(url, headers=headers)\n",
        "\n",
        "# print initial responses\n",
        "print(r.status_code)\n",
        "print(r.text)\n",
        "\n",
        "r_json = json.loads(r.text)\n",
        "pprint(r_json)\n"
      ]
    }
  ]
}